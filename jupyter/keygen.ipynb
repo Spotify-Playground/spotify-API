{
 "cells": [
  {
   "cell_type": "code",
   "execution_count": 1,
   "metadata": {},
   "outputs": [],
   "source": [
    "import requests"
   ]
  },
  {
   "cell_type": "code",
   "execution_count": 2,
   "metadata": {},
   "outputs": [],
   "source": [
    "client_id = \"3d918c9fcbe44e099ba189c46cdedd8d\"\n",
    "client_sc = \"9c1ff7f73f4b424ebaf54977cde68f83\""
   ]
  },
  {
   "cell_type": "code",
   "execution_count": 3,
   "metadata": {},
   "outputs": [
    {
     "name": "stdout",
     "output_type": "stream",
     "text": [
      "{'access_token': 'BQC1W9U5wu-ZLGJ4Ko0Y58kvpYe46i4NdXfeq5_kJNN1jnL16y2cZRYeMX4JXb-OOGWL2sqxNS_JC33NLYqKTVbBTwz8BO2E82FzyDviPSFEEVNs55g', 'token_type': 'Bearer', 'expires_in': 3600}\n"
     ]
    }
   ],
   "source": [
    "headers = {\n",
    "    'Content-Type': 'application/x-www-form-urlencoded',\n",
    "}\n",
    "data = f'grant_type=client_credentials&client_id={client_id}&client_secret={client_sc}'.encode()\n",
    "\n",
    "response = requests.post('https://accounts.spotify.com/api/token', headers=headers, data=data).json()\n",
    "print(response)"
   ]
  },
  {
   "cell_type": "code",
   "execution_count": 4,
   "metadata": {},
   "outputs": [
    {
     "name": "stdout",
     "output_type": "stream",
     "text": [
      "BQC1W9U5wu-ZLGJ4Ko0Y58kvpYe46i4NdXfeq5_kJNN1jnL16y2cZRYeMX4JXb-OOGWL2sqxNS_JC33NLYqKTVbBTwz8BO2E82FzyDviPSFEEVNs55g\n"
     ]
    }
   ],
   "source": [
    "access_token = response['access_token']\n",
    "print(access_token)"
   ]
  }
 ],
 "metadata": {
  "kernelspec": {
   "display_name": "airflow",
   "language": "python",
   "name": "python3"
  },
  "language_info": {
   "codemirror_mode": {
    "name": "ipython",
    "version": 3
   },
   "file_extension": ".py",
   "mimetype": "text/x-python",
   "name": "python",
   "nbconvert_exporter": "python",
   "pygments_lexer": "ipython3",
   "version": "3.7.16"
  },
  "orig_nbformat": 4
 },
 "nbformat": 4,
 "nbformat_minor": 2
}

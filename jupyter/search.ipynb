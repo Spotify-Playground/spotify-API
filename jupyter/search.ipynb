{
 "cells": [
  {
   "cell_type": "code",
   "execution_count": 8,
   "metadata": {},
   "outputs": [],
   "source": [
    "import requests, json"
   ]
  },
  {
   "cell_type": "code",
   "execution_count": 9,
   "metadata": {},
   "outputs": [],
   "source": [
    "access_token = \"BQC1W9U5wu-ZLGJ4Ko0Y58kvpYe46i4NdXfeq5_kJNN1jnL16y2cZRYeMX4JXb-OOGWL2sqxNS_JC33NLYqKTVbBTwz8BO2E82FzyDviPSFEEVNs55g\"\n",
    "\n",
    "# file_path = \"<movieDetails_파일_절대경로>\"\n",
    "# data = json.load(file_path)\n",
    "# search = data[\"original_title\"]\n",
    "\n",
    "# TMDB에 등재된 영화 original title 사용\n",
    "search = \"Oppenheimer\"\n",
    "search = \"Elemental\"\n",
    "search = \"Avatar: The Way of Water\""
   ]
  },
  {
   "cell_type": "code",
   "execution_count": 10,
   "metadata": {},
   "outputs": [
    {
     "name": "stdout",
     "output_type": "stream",
     "text": [
      "{'albums': {'href': 'https://api.spotify.com/v1/search?query=Avatar%3A+The+Way+of+Water&type=album&offset=0&limit=3', 'items': [{'album_type': 'album', 'artists': [{'external_urls': {'spotify': 'https://open.spotify.com/artist/12WCXE6DlRcCn2rEShNepL'}, 'href': 'https://api.spotify.com/v1/artists/12WCXE6DlRcCn2rEShNepL', 'id': '12WCXE6DlRcCn2rEShNepL', 'name': 'Simon Franglen', 'type': 'artist', 'uri': 'spotify:artist:12WCXE6DlRcCn2rEShNepL'}, {'external_urls': {'spotify': 'https://open.spotify.com/artist/1Xyo4u8uXC1ZmMpatF05PJ'}, 'href': 'https://api.spotify.com/v1/artists/1Xyo4u8uXC1ZmMpatF05PJ', 'id': '1Xyo4u8uXC1ZmMpatF05PJ', 'name': 'The Weeknd', 'type': 'artist', 'uri': 'spotify:artist:1Xyo4u8uXC1ZmMpatF05PJ'}], 'available_markets': ['AD', 'AE', 'AG', 'AL', 'AM', 'AO', 'AR', 'AT', 'AU', 'AZ', 'BA', 'BB', 'BD', 'BE', 'BF', 'BG', 'BH', 'BI', 'BJ', 'BN', 'BO', 'BR', 'BS', 'BT', 'BW', 'BZ', 'CA', 'CD', 'CG', 'CH', 'CI', 'CL', 'CM', 'CO', 'CR', 'CV', 'CW', 'CY', 'CZ', 'DE', 'DJ', 'DK', 'DM', 'DO', 'DZ', 'EC', 'EE', 'EG', 'ES', 'ET', 'FI', 'FJ', 'FM', 'FR', 'GA', 'GB', 'GD', 'GE', 'GH', 'GM', 'GN', 'GQ', 'GR', 'GT', 'GW', 'GY', 'HK', 'HN', 'HR', 'HT', 'HU', 'ID', 'IE', 'IL', 'IN', 'IQ', 'IS', 'IT', 'JM', 'JO', 'JP', 'KE', 'KG', 'KH', 'KI', 'KM', 'KN', 'KR', 'KW', 'KZ', 'LA', 'LB', 'LC', 'LI', 'LK', 'LR', 'LS', 'LT', 'LU', 'LV', 'LY', 'MA', 'MC', 'MD', 'ME', 'MG', 'MH', 'MK', 'ML', 'MN', 'MO', 'MR', 'MT', 'MU', 'MV', 'MW', 'MX', 'MY', 'MZ', 'NA', 'NE', 'NG', 'NI', 'NL', 'NO', 'NP', 'NR', 'NZ', 'OM', 'PA', 'PE', 'PG', 'PH', 'PK', 'PL', 'PS', 'PT', 'PW', 'PY', 'QA', 'RO', 'RS', 'RW', 'SA', 'SB', 'SC', 'SE', 'SG', 'SI', 'SK', 'SL', 'SM', 'SN', 'SR', 'ST', 'SV', 'SZ', 'TD', 'TG', 'TH', 'TJ', 'TL', 'TN', 'TO', 'TR', 'TT', 'TV', 'TW', 'TZ', 'UA', 'UG', 'US', 'UY', 'UZ', 'VC', 'VE', 'VN', 'VU', 'WS', 'XK', 'ZA', 'ZM', 'ZW'], 'external_urls': {'spotify': 'https://open.spotify.com/album/4M2Mf4pmARKGVT9MLCe3HA'}, 'href': 'https://api.spotify.com/v1/albums/4M2Mf4pmARKGVT9MLCe3HA', 'id': '4M2Mf4pmARKGVT9MLCe3HA', 'images': [{'height': 640, 'url': 'https://i.scdn.co/image/ab67616d0000b273c8044633efdd0e991224e197', 'width': 640}, {'height': 300, 'url': 'https://i.scdn.co/image/ab67616d00001e02c8044633efdd0e991224e197', 'width': 300}, {'height': 64, 'url': 'https://i.scdn.co/image/ab67616d00004851c8044633efdd0e991224e197', 'width': 64}], 'name': 'Avatar: The Way of Water (Original Motion Picture Soundtrack)', 'release_date': '2022-12-15', 'release_date_precision': 'day', 'total_tracks': 22, 'type': 'album', 'uri': 'spotify:album:4M2Mf4pmARKGVT9MLCe3HA'}, {'album_type': 'album', 'artists': [{'external_urls': {'spotify': 'https://open.spotify.com/artist/12WCXE6DlRcCn2rEShNepL'}, 'href': 'https://api.spotify.com/v1/artists/12WCXE6DlRcCn2rEShNepL', 'id': '12WCXE6DlRcCn2rEShNepL', 'name': 'Simon Franglen', 'type': 'artist', 'uri': 'spotify:artist:12WCXE6DlRcCn2rEShNepL'}], 'available_markets': ['AD', 'AE', 'AG', 'AL', 'AM', 'AO', 'AR', 'AT', 'AU', 'AZ', 'BA', 'BB', 'BD', 'BE', 'BF', 'BG', 'BH', 'BI', 'BJ', 'BN', 'BO', 'BR', 'BS', 'BT', 'BW', 'BZ', 'CA', 'CD', 'CG', 'CH', 'CI', 'CL', 'CM', 'CO', 'CR', 'CV', 'CW', 'CY', 'CZ', 'DE', 'DJ', 'DK', 'DM', 'DO', 'DZ', 'EC', 'EE', 'EG', 'ES', 'ET', 'FI', 'FJ', 'FM', 'FR', 'GA', 'GB', 'GD', 'GE', 'GH', 'GM', 'GN', 'GQ', 'GR', 'GT', 'GW', 'GY', 'HK', 'HN', 'HR', 'HT', 'HU', 'ID', 'IE', 'IL', 'IN', 'IQ', 'IS', 'IT', 'JM', 'JO', 'JP', 'KE', 'KG', 'KH', 'KI', 'KM', 'KN', 'KR', 'KW', 'KZ', 'LA', 'LB', 'LC', 'LI', 'LK', 'LR', 'LS', 'LT', 'LU', 'LV', 'LY', 'MA', 'MC', 'MD', 'ME', 'MG', 'MH', 'MK', 'ML', 'MN', 'MO', 'MR', 'MT', 'MU', 'MV', 'MW', 'MX', 'MY', 'MZ', 'NA', 'NE', 'NG', 'NI', 'NL', 'NO', 'NP', 'NR', 'NZ', 'OM', 'PA', 'PE', 'PG', 'PH', 'PK', 'PL', 'PS', 'PT', 'PW', 'PY', 'QA', 'RO', 'RS', 'RW', 'SA', 'SB', 'SC', 'SE', 'SG', 'SI', 'SK', 'SL', 'SM', 'SN', 'SR', 'ST', 'SV', 'SZ', 'TD', 'TG', 'TH', 'TJ', 'TL', 'TN', 'TO', 'TR', 'TT', 'TV', 'TW', 'TZ', 'UA', 'UG', 'US', 'UY', 'UZ', 'VC', 'VE', 'VN', 'VU', 'WS', 'XK', 'ZA', 'ZM', 'ZW'], 'external_urls': {'spotify': 'https://open.spotify.com/album/0HPZCATI0N7zHatx4fD5RE'}, 'href': 'https://api.spotify.com/v1/albums/0HPZCATI0N7zHatx4fD5RE', 'id': '0HPZCATI0N7zHatx4fD5RE', 'images': [{'height': 640, 'url': 'https://i.scdn.co/image/ab67616d0000b273d7e72752b579c6771230beb2', 'width': 640}, {'height': 300, 'url': 'https://i.scdn.co/image/ab67616d00001e02d7e72752b579c6771230beb2', 'width': 300}, {'height': 64, 'url': 'https://i.scdn.co/image/ab67616d00004851d7e72752b579c6771230beb2', 'width': 64}], 'name': 'Avatar: The Way of Water (Original Score)', 'release_date': '2022-12-20', 'release_date_precision': 'day', 'total_tracks': 32, 'type': 'album', 'uri': 'spotify:album:0HPZCATI0N7zHatx4fD5RE'}, {'album_type': 'album', 'artists': [{'external_urls': {'spotify': 'https://open.spotify.com/artist/5okM5RiDpwzSLyU7CP8lx2'}, 'href': 'https://api.spotify.com/v1/artists/5okM5RiDpwzSLyU7CP8lx2', 'id': '5okM5RiDpwzSLyU7CP8lx2', 'name': 'INTO THE WATER', 'type': 'artist', 'uri': 'spotify:artist:5okM5RiDpwzSLyU7CP8lx2'}], 'available_markets': ['AD', 'AE', 'AG', 'AL', 'AM', 'AO', 'AR', 'AT', 'AU', 'AZ', 'BA', 'BB', 'BD', 'BE', 'BF', 'BG', 'BH', 'BI', 'BJ', 'BN', 'BO', 'BR', 'BS', 'BT', 'BW', 'BY', 'BZ', 'CA', 'CD', 'CG', 'CH', 'CI', 'CL', 'CM', 'CO', 'CR', 'CV', 'CW', 'CY', 'CZ', 'DE', 'DJ', 'DK', 'DM', 'DO', 'DZ', 'EC', 'EE', 'EG', 'ES', 'ET', 'FI', 'FJ', 'FM', 'FR', 'GA', 'GB', 'GD', 'GE', 'GH', 'GM', 'GN', 'GQ', 'GR', 'GT', 'GW', 'GY', 'HK', 'HN', 'HR', 'HT', 'HU', 'ID', 'IE', 'IL', 'IN', 'IQ', 'IS', 'IT', 'JM', 'JO', 'JP', 'KE', 'KG', 'KH', 'KI', 'KM', 'KN', 'KR', 'KW', 'KZ', 'LA', 'LB', 'LC', 'LI', 'LK', 'LR', 'LS', 'LT', 'LU', 'LV', 'LY', 'MA', 'MC', 'MD', 'ME', 'MG', 'MH', 'MK', 'ML', 'MN', 'MO', 'MR', 'MT', 'MU', 'MV', 'MW', 'MX', 'MY', 'MZ', 'NA', 'NE', 'NG', 'NI', 'NL', 'NO', 'NP', 'NR', 'NZ', 'OM', 'PA', 'PE', 'PG', 'PH', 'PK', 'PL', 'PS', 'PT', 'PW', 'PY', 'QA', 'RO', 'RS', 'RW', 'SA', 'SB', 'SC', 'SE', 'SG', 'SI', 'SK', 'SL', 'SM', 'SN', 'SR', 'ST', 'SV', 'SZ', 'TD', 'TG', 'TH', 'TJ', 'TL', 'TN', 'TO', 'TR', 'TT', 'TV', 'TW', 'TZ', 'UA', 'UG', 'US', 'UY', 'UZ', 'VC', 'VE', 'VN', 'VU', 'WS', 'XK', 'ZA', 'ZM', 'ZW'], 'external_urls': {'spotify': 'https://open.spotify.com/album/5lIIpcWRs0isanUCNXB0gE'}, 'href': 'https://api.spotify.com/v1/albums/5lIIpcWRs0isanUCNXB0gE', 'id': '5lIIpcWRs0isanUCNXB0gE', 'images': [{'height': 640, 'url': 'https://i.scdn.co/image/ab67616d0000b273bb8e977efbe5d8f88f36ddbf', 'width': 640}, {'height': 300, 'url': 'https://i.scdn.co/image/ab67616d00001e02bb8e977efbe5d8f88f36ddbf', 'width': 300}, {'height': 64, 'url': 'https://i.scdn.co/image/ab67616d00004851bb8e977efbe5d8f88f36ddbf', 'width': 64}], 'name': 'Avatar the Way of Water', 'release_date': '2023-08-13', 'release_date_precision': 'day', 'total_tracks': 13, 'type': 'album', 'uri': 'spotify:album:5lIIpcWRs0isanUCNXB0gE'}], 'limit': 3, 'next': 'https://api.spotify.com/v1/search?query=Avatar%3A+The+Way+of+Water&type=album&offset=3&limit=3', 'offset': 0, 'previous': None, 'total': 435}}\n"
     ]
    }
   ],
   "source": [
    "headers = {\n",
    "    'Authorization': f'Bearer {access_token}',\n",
    "}\n",
    "\n",
    "params = {\n",
    "    'q' : search,\n",
    "    'type': 'album',\n",
    "    'limit' : \"3\"\n",
    "}\n",
    "\n",
    "response = requests.get('https://api.spotify.com/v1/search', params=params, headers=headers).json()\n",
    "print(response)"
   ]
  },
  {
   "cell_type": "code",
   "execution_count": 11,
   "metadata": {},
   "outputs": [],
   "source": [
    "file_path = \"/Users/kimdohoon/git/Spotify-Playground/spotify-API/datas/demo\"\n",
    "# file_name = \"oppenheimer.json\"\n",
    "# file_name = \"elemental.json\"\n",
    "file_name = \"avatar_2.json\"\n",
    "\n",
    "with open(f\"{file_path}/{file_name}\", \"w\") as file:\n",
    "    json.dump(response, file, indent=4, ensure_ascii=False) "
   ]
  },
  {
   "cell_type": "code",
   "execution_count": 2,
   "metadata": {},
   "outputs": [
    {
     "data": {
      "text/plain": [
       "'\\n사용할 데이터 \\n- root(리스트) : data[\"albums\"][\"items\"]\\n\\n사용할 컬럼 (페이지는 cnt로 설정)\\n- 앨범 아티스트   : data[\"albums\"][\"items\"][cnt][\"artists\"][cnt][\"name\"]\\n- 앨범 이름       : data[\"albums\"][\"items\"][cnt][\"name\"]\\n- 앨범 발매일     : data[\"albums\"][\"items\"][cnt][\"release_date\"]\\n- 앨범 사진       : data[\"albums\"][\"items\"][cnt][\"images\"][0][\"url\"]  => 1장만 사용(640*640)\\n'"
      ]
     },
     "execution_count": 2,
     "metadata": {},
     "output_type": "execute_result"
    }
   ],
   "source": [
    "'''\n",
    "사용할 데이터 \n",
    "- root(리스트) : data[\"albums\"][\"items\"]\n",
    "\n",
    "사용할 컬럼 (페이지는 cnt로 설정)\n",
    "- 앨범 아티스트   : data[\"albums\"][\"items\"][cnt][\"artists\"][cnt][\"name\"]\n",
    "- 앨범 이름       : data[\"albums\"][\"items\"][cnt][\"name\"]\n",
    "- 앨범 발매일     : data[\"albums\"][\"items\"][cnt][\"release_date\"]\n",
    "- 앨범 사진       : data[\"albums\"][\"items\"][cnt][\"images\"][0][\"url\"]  => 1장만 사용(640*640)\n",
    "'''"
   ]
  }
 ],
 "metadata": {
  "kernelspec": {
   "display_name": "airflow",
   "language": "python",
   "name": "python3"
  },
  "language_info": {
   "codemirror_mode": {
    "name": "ipython",
    "version": 3
   },
   "file_extension": ".py",
   "mimetype": "text/x-python",
   "name": "python",
   "nbconvert_exporter": "python",
   "pygments_lexer": "ipython3",
   "version": "3.7.16"
  },
  "orig_nbformat": 4
 },
 "nbformat": 4,
 "nbformat_minor": 2
}
